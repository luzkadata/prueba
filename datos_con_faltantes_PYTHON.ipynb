{
  "nbformat": 4,
  "nbformat_minor": 0,
  "metadata": {
    "colab": {
      "provenance": [],
      "toc_visible": true
    },
    "kernelspec": {
      "name": "python3",
      "display_name": "Python 3"
    },
    "language_info": {
      "name": "python"
    }
  },
  "cells": [
    {
      "cell_type": "code",
      "execution_count": 11,
      "metadata": {
        "colab": {
          "base_uri": "https://localhost:8080/"
        },
        "id": "vZrBboOy1LUr",
        "outputId": "d3a022fb-ec0c-40b9-92ab-6b0af8de6b32"
      },
      "outputs": [
        {
          "output_type": "stream",
          "name": "stdout",
          "text": [
            "valores faltantes por columna\n",
            "  Nombre  Edad     Ciudad\n",
            "0    Ana  23.0     Madrid\n",
            "1   Juan  29.0        NaN\n",
            "2  Pedro   NaN  Barcelona\n",
            "3    NaN  40.0    Sevilla\n",
            "4  Maria  35.0        NaN\n",
            "Nombre    1\n",
            "Edad      1\n",
            "Ciudad    2\n",
            "dtype: int64\n",
            "        Nombre   Edad       Ciudad\n",
            "0          Ana  23.00       Madrid\n",
            "1         Juan  29.00  Desconocido\n",
            "2        Pedro  31.75    Barcelona\n",
            "3  Desconocido  40.00      Sevilla\n",
            "4        Maria  35.00  Desconocido\n",
            "valores faltantes por fila\n",
            "0    0\n",
            "1    0\n",
            "2    0\n",
            "3    0\n",
            "4    0\n",
            "dtype: int64\n",
            "Datos duplicados en el dataset\n",
            "0    False\n",
            "1    False\n",
            "2    False\n",
            "3    False\n",
            "4    False\n",
            "dtype: bool\n",
            "        Nombre   Edad       Ciudad\n",
            "0          Ana  23.00       Madrid\n",
            "1         Juan  29.00  Desconocido\n",
            "2        Pedro  31.75    Barcelona\n",
            "3  Desconocido  40.00      Sevilla\n",
            "4        Maria  35.00  Desconocido\n"
          ]
        }
      ],
      "source": [
        "import pandas as pd\n",
        "df=pd.read_csv('datos_con_faltantes.csv',encoding='latin-1')\n",
        "df.head()\n",
        "print(\"valores faltantes por columna\")\n",
        "print(df)\n",
        "print(df.isnull().sum())\n",
        "\n",
        "df['Edad']=df['Edad'].fillna(df['Edad'].mean())\n",
        "df['Nombre']=df['Nombre'].fillna('Desconocido')\n",
        "df['Ciudad']=df['Ciudad'].fillna('Desconocido')\n",
        "print(df)\n",
        "print(\"valores faltantes por fila\")\n",
        "print(df.isnull().sum(axis=1))\n",
        "\n",
        "print(\"Datos duplicados en el dataset\")\n",
        "print(df.duplicated())\n",
        "print(df.drop_duplicates())"
      ]
    },
    {
      "cell_type": "code",
      "source": [
        "Q1=df['Edad'].quantile(0.25)\n",
        "Q3=df['Edad'].quantile(0.75)\n",
        "IQR=Q3-Q1\n",
        "lower_bound=Q1-1.5*IQR\n",
        "upper_bound=Q3+1.5*IQR\n",
        "outliers=df[(df['Edad']<lower_bound)|(df['Edad']>upper_bound)]\n",
        "print(\"Outliers identificados\")\n",
        "print(outliers)\n",
        "\n",
        "df_sin_outliers=df[~((df['Edad']<lower_bound)|(df['Edad']>upper_bound))]\n",
        "print(df_sin_outliers)\n",
        "print(\"Analisis descriptivo de los datos\")\n",
        "print(df_sin_outliers.describe())"
      ],
      "metadata": {
        "colab": {
          "base_uri": "https://localhost:8080/"
        },
        "id": "F08E0HfZ5KI8",
        "outputId": "98f232f1-7851-45fd-e090-cb15307ba875"
      },
      "execution_count": 12,
      "outputs": [
        {
          "output_type": "stream",
          "name": "stdout",
          "text": [
            "Outliers identificados\n",
            "Empty DataFrame\n",
            "Columns: [Nombre, Edad, Ciudad]\n",
            "Index: []\n",
            "        Nombre   Edad       Ciudad\n",
            "0          Ana  23.00       Madrid\n",
            "1         Juan  29.00  Desconocido\n",
            "2        Pedro  31.75    Barcelona\n",
            "3  Desconocido  40.00      Sevilla\n",
            "4        Maria  35.00  Desconocido\n",
            "Analisis descriptivo de los datos\n",
            "            Edad\n",
            "count   5.000000\n",
            "mean   31.750000\n",
            "std     6.378675\n",
            "min    23.000000\n",
            "25%    29.000000\n",
            "50%    31.750000\n",
            "75%    35.000000\n",
            "max    40.000000\n"
          ]
        }
      ]
    },
    {
      "cell_type": "code",
      "source": [
        "import pandas as pd\n",
        "\n",
        "df=pd.read_csv(\"datos_con_faltantes.csv\")\n",
        "\n",
        "print(\"Datos originales\")\n",
        "print(df)\n",
        "\n",
        "print(\"Valores faltantes por columna\")\n",
        "print(df.isnull().sum())\n",
        "# Vamos a sacar el promedio de todas las edades y se le va asignar la registor 2 en la columna edad\n",
        "df['Edad']=df['Edad'].fillna(df['Edad'].mean())\n",
        "print(df)\n",
        "print('')"
      ],
      "metadata": {
        "colab": {
          "base_uri": "https://localhost:8080/"
        },
        "id": "xydqZMcf8lxm",
        "outputId": "f1688d69-6c85-417c-e7cd-62d4fa4df2ec"
      },
      "execution_count": 14,
      "outputs": [
        {
          "output_type": "stream",
          "name": "stdout",
          "text": [
            "Datos originales\n",
            "  Nombre  Edad     Ciudad\n",
            "0    Ana  23.0     Madrid\n",
            "1   Juan  29.0        NaN\n",
            "2  Pedro   NaN  Barcelona\n",
            "3    NaN  40.0    Sevilla\n",
            "4  Maria  35.0        NaN\n",
            "Valores faltantes por columna\n",
            "Nombre    1\n",
            "Edad      1\n",
            "Ciudad    2\n",
            "dtype: int64\n",
            "  Nombre   Edad     Ciudad\n",
            "0    Ana  23.00     Madrid\n",
            "1   Juan  29.00        NaN\n",
            "2  Pedro  31.75  Barcelona\n",
            "3    NaN  40.00    Sevilla\n",
            "4  Maria  35.00        NaN\n",
            "\n"
          ]
        }
      ]
    },
    {
      "cell_type": "code",
      "source": [
        "df['Edad']=df['Edad'].fillna(df['Edad'].mean())\n",
        "df['Nombre']=df['Nombre'].fillna('Desconocido')\n",
        "df['Ciudad']=df['Ciudad'].fillna('Desconocido')\n",
        "\n",
        "print(df)\n",
        "\n",
        "print(\"Datos despues del manejo de faltantes \")\n",
        "print(df.isnull().sum())\n",
        "\n",
        "print(\"Datos duplicados en el dataset\")\n",
        "print(df[df.duplicated()])\n",
        "\n",
        "df.drop_duplicates(inplace=True)\n",
        "\n",
        "print(\"Datos despues de eliminar los duplicados\")\n",
        "print(df)"
      ],
      "metadata": {
        "colab": {
          "base_uri": "https://localhost:8080/"
        },
        "id": "rpnp3RgK82V-",
        "outputId": "3db4b577-135d-40ec-e6bb-f21e7253a38d"
      },
      "execution_count": 16,
      "outputs": [
        {
          "output_type": "stream",
          "name": "stdout",
          "text": [
            "        Nombre   Edad       Ciudad\n",
            "0          Ana  23.00       Madrid\n",
            "1         Juan  29.00  Desconocido\n",
            "2        Pedro  31.75    Barcelona\n",
            "3  Desconocido  40.00      Sevilla\n",
            "4        Maria  35.00  Desconocido\n",
            "Datos despues del manejo de faltantes \n",
            "Nombre    0\n",
            "Edad      0\n",
            "Ciudad    0\n",
            "dtype: int64\n",
            "Datos duplicados en el dataset\n",
            "Empty DataFrame\n",
            "Columns: [Nombre, Edad, Ciudad]\n",
            "Index: []\n",
            "Datos despues de eliminar los duplicados\n",
            "        Nombre   Edad       Ciudad\n",
            "0          Ana  23.00       Madrid\n",
            "1         Juan  29.00  Desconocido\n",
            "2        Pedro  31.75    Barcelona\n",
            "3  Desconocido  40.00      Sevilla\n",
            "4        Maria  35.00  Desconocido\n"
          ]
        }
      ]
    },
    {
      "cell_type": "markdown",
      "source": [
        "# Diccionarios"
      ],
      "metadata": {
        "id": "cAIGzjUyV-wj"
      }
    },
    {
      "cell_type": "code",
      "source": [
        "import pandas as pd\n",
        "\n",
        "data = {\n",
        "    'Nombre':      ['Juan', 'Ana', 'Pedro', 'María', 'Luis', 'Ana'],\n",
        "    'Edad':        [28, 34, None, 45, 38, 34],\n",
        "    'Salario':     ['3000', '4000', 'cincomil', '4500', '4000', '5000'],\n",
        "    'FechaIngreso':['2021-01-15', '2020/03/12', '2022-07-01',\n",
        "                    '2021/12/01', '2021-05-20', '2020-03-12']\n",
        "}\n",
        "\n",
        "df = pd.DataFrame(data)\n",
        "print(df)\n",
        "\n",
        "\n",
        "valores_faltantes = df.isnull().sum()\n",
        "print(valores_faltantes)\n",
        "\n",
        "salarios_incorrectos=df[~df['Salario'].astype(str).str.match(r'^\\d+$')]\n",
        "print(salarios_incorrectos)"
      ],
      "metadata": {
        "colab": {
          "base_uri": "https://localhost:8080/"
        },
        "id": "n7w3u_ArWEk1",
        "outputId": "c7aee374-4232-42f1-d752-b362e26ffdb8"
      },
      "execution_count": 23,
      "outputs": [
        {
          "output_type": "stream",
          "name": "stdout",
          "text": [
            "  Nombre  Edad   Salario FechaIngreso\n",
            "0   Juan  28.0      3000   2021-01-15\n",
            "1    Ana  34.0      4000   2020/03/12\n",
            "2  Pedro   NaN  cincomil   2022-07-01\n",
            "3  María  45.0      4500   2021/12/01\n",
            "4   Luis  38.0      4000   2021-05-20\n",
            "5    Ana  34.0      5000   2020-03-12\n",
            "Nombre          0\n",
            "Edad            1\n",
            "Salario         0\n",
            "FechaIngreso    0\n",
            "dtype: int64\n",
            "  Nombre  Edad   Salario FechaIngreso\n",
            "2  Pedro   NaN  cincomil   2022-07-01\n"
          ]
        }
      ]
    }
  ]
}