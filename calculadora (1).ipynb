{
  "nbformat": 4,
  "nbformat_minor": 0,
  "metadata": {
    "colab": {
      "provenance": [],
      "name": "calculadora.ipynb"
    },
    "kernelspec": {
      "name": "python3",
      "display_name": "Python 3"
    },
    "language_info": {
      "name": "python"
    }
  },
  "cells": [
    {
      "cell_type": "code",
      "execution_count": 4,
      "metadata": {
        "id": "m19NynAvj3E-"
      },
      "outputs": [],
      "source": []
    },
    {
      "cell_type": "code",
      "source": [
        "def calculadora():\n",
        "    print(\"Calculadora básica\")\n",
        "    a = float(input(\"Ingrese número 1: \"))\n",
        "    b = float(input(\"Ingrese número 2: \"))\n",
        "    print(\"Seleccione operación: 1. Suma 2. Resta 3. Multiplicación 4. División\")\n",
        "    op = input(\"Opción: \")\n",
        "\n",
        "    if op == \"1\":\n",
        "        print(\"Resultado:\", a + b)\n",
        "    elif op == \"2\":\n",
        "        print(\"Resultado:\", a - b)\n",
        "    elif op == \"3\":\n",
        "        print(\"Resultado:\", a * b)\n",
        "    elif op == \"4\":\n",
        "        if b != 0:\n",
        "            print(\"Resultado:\", a / b)\n",
        "        else:\n",
        "            print(\"Error: división por cero\")\n",
        "    else:\n",
        "        print(\"Opción no válida\")\n",
        "\n",
        "calculadora()\n"
      ],
      "metadata": {
        "id": "_DcQf9jxuhtT",
        "outputId": "d1ddb165-858d-4b4d-a9bb-f83d34f1df95",
        "colab": {
          "base_uri": "https://localhost:8080/"
        }
      },
      "execution_count": 4,
      "outputs": [
        {
          "output_type": "stream",
          "name": "stdout",
          "text": [
            "Calculadora básica\n",
            "Ingrese número 1: 25\n",
            "Ingrese número 2: 32\n",
            "Seleccione operación: 1. Suma 2. Resta 3. Multiplicación 4. División\n",
            "Opción: 35\n",
            "Opción no válida\n"
          ]
        }
      ]
    }
  ]
}